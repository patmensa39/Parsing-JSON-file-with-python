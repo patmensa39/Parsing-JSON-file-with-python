{
 "cells": [
  {
   "cell_type": "code",
   "execution_count": null,
   "metadata": {},
   "outputs": [],
   "source": [
    "import json\n",
    "import os"
   ]
  },
  {
   "cell_type": "code",
   "execution_count": 17,
   "metadata": {},
   "outputs": [
    {
     "name": "stdout",
     "output_type": "stream",
     "text": [
      "Current working directory: C:\\Users\\patme\\OneDrive\\Desktop\\Data_Science\\Python\\data\n"
     ]
    }
   ],
   "source": [
    "# Specify the desired directory path\n",
    "directory_path = r'C:\\Users\\patme\\OneDrive\\Desktop\\Data_Science\\Python\\data'\n",
    "\n",
    "# Change the current working directory\n",
    "os.chdir(directory_path)\n",
    "\n",
    "# Verify the change\n",
    "current_directory = os.getcwd()\n",
    "print(\"Current working directory:\", current_directory)\n"
   ]
  },
  {
   "cell_type": "code",
   "execution_count": 22,
   "metadata": {},
   "outputs": [
    {
     "name": "stdout",
     "output_type": "stream",
     "text": [
      "{'monsterName': 'Spook', 'caption': 'Safe and Sound', 'description': \"Cracking code and battling hackers is Spook's forte. She holds a prominent position as Head of Cyber Security for the Department of Monster Defense, where she thwarts attacks on government computer systems as often as she blinks. When not at work, Spook delights in serving up a fright at haunted mansions and ghost walks.\", 'price': '29'}\n"
     ]
    }
   ],
   "source": [
    "# Parsing JSON file with python\n",
    "def display_json():\n",
    "    with open('monster.json') as file:\n",
    "        content_json = json.load(file)\n",
    "        print(content_json)\n",
    "\n",
    "if __name__ == \"__main__\":\n",
    "    display_json()\n"
   ]
  },
  {
   "cell_type": "code",
   "execution_count": 23,
   "metadata": {},
   "outputs": [
    {
     "name": "stdout",
     "output_type": "stream",
     "text": [
      "Current working directory: C:\\Users\\patme\\OneDrive\\Desktop\\Data_Science\\Python\\data\n"
     ]
    }
   ],
   "source": [
    "import os\n",
    "\n",
    "current_directory = os.getcwd()\n",
    "print(\"Current working directory:\", current_directory)\n"
   ]
  },
  {
   "cell_type": "code",
   "execution_count": 24,
   "metadata": {},
   "outputs": [
    {
     "name": "stdout",
     "output_type": "stream",
     "text": [
      "Welcome Spook\n"
     ]
    }
   ],
   "source": [
    "# Displaying name from json \n",
    "\n",
    "def display_name_from_json():\n",
    "    with open('monster.json') as file:\n",
    "        content_json = json.load(file)\n",
    "        print(\"Welcome\", content_json['monsterName'])\n",
    "\n",
    "if __name__ == \"__main__\":\n",
    "    display_name_from_json()\n",
    "\n"
   ]
  }
 ],
 "metadata": {
  "kernelspec": {
   "display_name": "Python 3",
   "language": "python",
   "name": "python3"
  },
  "language_info": {
   "codemirror_mode": {
    "name": "ipython",
    "version": 3
   },
   "file_extension": ".py",
   "mimetype": "text/x-python",
   "name": "python",
   "nbconvert_exporter": "python",
   "pygments_lexer": "ipython3",
   "version": "3.12.2"
  }
 },
 "nbformat": 4,
 "nbformat_minor": 2
}
